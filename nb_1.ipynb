{
 "cells": [
  {
   "cell_type": "code",
   "execution_count": 22,
   "id": "b475a637-85cc-449f-bc43-6abca28caf87",
   "metadata": {
    "tags": []
   },
   "outputs": [],
   "source": [
    "import dagstermill"
   ]
  },
  {
   "cell_type": "code",
   "execution_count": 24,
   "id": "6a9a4c7f-d5ce-463f-966c-ba45cb2f1d9e",
   "metadata": {
    "tags": [
     "parameters"
    ]
   },
   "outputs": [],
   "source": []
  },
  {
   "cell_type": "code",
   "execution_count": null,
   "id": "c0c28576-5f54-423d-bd9f-dd25cd79ac9d",
   "metadata": {},
   "outputs": [],
   "source": [
    "dagstermill.yield_result(value='a', output_name='val')"
   ]
  }
 ],
 "metadata": {
  "kernelspec": {
   "display_name": "Python 3 (ipykernel)",
   "language": "python",
   "name": "python3"
  },
  "language_info": {
   "codemirror_mode": {
    "name": "ipython",
    "version": 3
   },
   "file_extension": ".py",
   "mimetype": "text/x-python",
   "name": "python",
   "nbconvert_exporter": "python",
   "pygments_lexer": "ipython3",
   "version": "3.10.9"
  }
 },
 "nbformat": 4,
 "nbformat_minor": 5
}
